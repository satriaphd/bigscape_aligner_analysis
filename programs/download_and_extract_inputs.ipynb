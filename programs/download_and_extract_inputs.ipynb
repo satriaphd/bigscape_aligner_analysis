{
 "cells": [
  {
   "cell_type": "code",
   "execution_count": 1,
   "metadata": {},
   "outputs": [],
   "source": [
    "import tarfile\n",
    "import subprocess\n",
    "import urllib3\n",
    "from ftplib import FTP\n",
    "import gzip\n",
    "import shutil\n",
    "from os import path\n",
    "import certifi\n",
    "http = urllib3.PoolManager(cert_reqs='CERT_REQUIRED', ca_certs=certifi.where())"
   ]
  },
  {
   "cell_type": "code",
   "execution_count": 2,
   "metadata": {},
   "outputs": [],
   "source": [
    "data_url = \"http://bioinformatics.nl/~kauts001/ltr/ActinobacteriaAnalysis_GBKs.tar.gz\"\n",
    "save_to = \"../inputs/data.tar.gz\""
   ]
  },
  {
   "cell_type": "code",
   "execution_count": 3,
   "metadata": {},
   "outputs": [
    {
     "name": "stdout",
     "output_type": "stream",
     "text": [
      "Downloading data...\n",
      "Downloaded.\n"
     ]
    }
   ],
   "source": [
    "print(\"Downloading data...\")\n",
    "if (not path.exists(save_to)):\n",
    "    r = http.request('GET', data_url, preload_content=False)\n",
    "    with open(save_to, 'wb') as out:\n",
    "        while True:\n",
    "            data = r.read(65536)\n",
    "            if not data:\n",
    "                break\n",
    "            out.write(data)\n",
    "\n",
    "    r.release_conn()\n",
    "print(\"Downloaded.\")"
   ]
  },
  {
   "cell_type": "code",
   "execution_count": 4,
   "metadata": {},
   "outputs": [
    {
     "name": "stdout",
     "output_type": "stream",
     "text": [
      "Extracting..\n",
      "Extracted.\n"
     ]
    }
   ],
   "source": [
    "print(\"Extracting..\")\n",
    "tf = tarfile.open(save_to)\n",
    "tf.extractall(\"../inputs/\")\n",
    "print(\"Extracted.\")"
   ]
  },
  {
   "cell_type": "code",
   "execution_count": 5,
   "metadata": {},
   "outputs": [],
   "source": [
    "pfam_url = \"ftp.ebi.ac.uk\"\n",
    "pfam_file = \"../inputs/Pfam-A.hmm.gz\""
   ]
  },
  {
   "cell_type": "code",
   "execution_count": 6,
   "metadata": {},
   "outputs": [
    {
     "name": "stdout",
     "output_type": "stream",
     "text": [
      "Downloading pfam...\n",
      "Downloaded.\n"
     ]
    }
   ],
   "source": [
    "print(\"Downloading pfam...\")\n",
    "if (not path.exists(pfam_file)):\n",
    "    with FTP(pfam_url) as ftp:\n",
    "        ftp.login(\"\", \"\")\n",
    "        ftp.retrbinary(\"RETR \" + \"/pub/databases/Pfam/releases/Pfam31.0/Pfam-A.hmm.gz\" ,open(pfam_file, 'wb').write)\n",
    "print(\"Downloaded.\")"
   ]
  },
  {
   "cell_type": "code",
   "execution_count": 7,
   "metadata": {},
   "outputs": [
    {
     "name": "stdout",
     "output_type": "stream",
     "text": [
      "Extracting..\n",
      "Extracted.\n"
     ]
    }
   ],
   "source": [
    "print(\"Extracting..\")\n",
    "with gzip.open(pfam_file, 'rb') as f_in:\n",
    "    with open('../inputs/Pfam-A.hmm', 'wb') as f_out:\n",
    "        shutil.copyfileobj(f_in, f_out)\n",
    "print(\"Extracted.\")"
   ]
  },
  {
   "cell_type": "code",
   "execution_count": 8,
   "metadata": {},
   "outputs": [
    {
     "data": {
      "text/plain": [
       "0"
      ]
     },
     "execution_count": 8,
     "metadata": {},
     "output_type": "execute_result"
    }
   ],
   "source": [
    "subprocess.call(\"hmmpress ../inputs/Pfam-A.hmm\", shell=True)"
   ]
  },
  {
   "cell_type": "code",
   "execution_count": null,
   "metadata": {},
   "outputs": [],
   "source": []
  }
 ],
 "metadata": {
  "kernelspec": {
   "display_name": "Python 3",
   "language": "python",
   "name": "python3"
  },
  "language_info": {
   "codemirror_mode": {
    "name": "ipython",
    "version": 3
   },
   "file_extension": ".py",
   "mimetype": "text/x-python",
   "name": "python",
   "nbconvert_exporter": "python",
   "pygments_lexer": "ipython3",
   "version": "3.7.3"
  }
 },
 "nbformat": 4,
 "nbformat_minor": 2
}
