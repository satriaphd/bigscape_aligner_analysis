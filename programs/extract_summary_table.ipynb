{
 "cells": [
  {
   "cell_type": "code",
   "execution_count": 1,
   "metadata": {},
   "outputs": [],
   "source": [
    "import re\n",
    "from datetime import datetime"
   ]
  },
  {
   "cell_type": "code",
   "execution_count": null,
   "metadata": {},
   "outputs": [],
   "source": []
  },
  {
   "cell_type": "code",
   "execution_count": 2,
   "metadata": {},
   "outputs": [],
   "source": [
    "cur_identifier = None\n",
    "cur_alignment = None\n",
    "cur_results = None\n",
    "cur_state = \"\"\n",
    "last_datetime_stored = None\n",
    "last_start_time = None\n",
    "all_results = []\n",
    "with open(\"../preprocessed/bash_log.txt\", \"r\") as handle:\n",
    "    for line in handle:\n",
    "        line = line.rstrip()\n",
    "        try:\n",
    "            last_datetime_stored = datetime.strptime(line[:26], '%Y-%m-%d %H:%M:%S.%f')\n",
    "        except:\n",
    "            pass\n",
    "        if cur_state == \"\":\n",
    "            match_identifier = re.search(\"^-+sample-(?P<n>\\d+)-(?P<i>\\d+)-+$\", line)\n",
    "            if match_identifier:\n",
    "                cur_identifier = (int(match_identifier.group(\"n\")), int(match_identifier.group(\"i\")))\n",
    "                cur_state = \"parse_alignment\"\n",
    "                cur_alignment = None\n",
    "                cur_results = {}\n",
    "        elif cur_state == \"parse_alignment\":\n",
    "            m = re.search(\"^(.+):  Predicting domains for \\d+ fasta files$\", line)\n",
    "            if m:\n",
    "                cur_results[\"start_hmmscan\"] = datetime.strptime(m.group(1), '%Y-%m-%d %H:%M:%S.%f')\n",
    "                continue\n",
    "            m = re.search(\"^(.+):  Finished generating domtable files.$\", line)\n",
    "            if m:\n",
    "                cur_results[\"end_hmmscan\"] = datetime.strptime(m.group(1), '%Y-%m-%d %H:%M:%S.%f')\n",
    "                if \"start_hmmscan\" in cur_results:\n",
    "                    cur_results[\"hmmscan\"] = (cur_results[\"end_hmmscan\"] - cur_results[\"start_hmmscan\"]).total_seconds()\n",
    "                continue\n",
    "            m = re.search(\"^launch_(.+) took (.+) seconds$\", line)\n",
    "            if m:\n",
    "                cur_alignment = m.group(1)\n",
    "                cur_results[\"alignment\"] = float(m.group(2))\n",
    "                continue\n",
    "            m = re.search(\"^\\s+Main function took (.+) s$\", line)\n",
    "            if m:\n",
    "                cur_results[\"main_function\"] = float(m.group(1))\n",
    "                continue\n",
    "            if line == \"   - - Processing input files - -\":\n",
    "                if len(cur_results.keys()) > 0:\n",
    "                    runtime = (last_datetime_stored - last_start_time).total_seconds()\n",
    "                    all_results.append([\n",
    "                        cur_identifier[0],\n",
    "                        cur_identifier[1],\n",
    "                        cur_alignment,\n",
    "                        cur_results.get(\"hmmscan\"),\n",
    "                        cur_results.get(\"alignment\"),\n",
    "                        cur_results.get(\"main_function\"),\n",
    "                        runtime\n",
    "                    ])\n",
    "                    cur_alignment = None\n",
    "                    cur_results = {}\n",
    "                last_start_time = last_datetime_stored\n",
    "                continue\n",
    "            m = re.search(\"^-+sample-(\\d+)-(\\d+)-+$\", line)\n",
    "            if m:\n",
    "                if len(cur_results.keys()) > 0:\n",
    "                    runtime = (last_datetime_stored - last_start_time).total_seconds()\n",
    "                    all_results.append([\n",
    "                        cur_identifier[0],\n",
    "                        cur_identifier[1],\n",
    "                        cur_alignment,\n",
    "                        cur_results.get(\"hmmscan\"),\n",
    "                        cur_results.get(\"alignment\"),\n",
    "                        cur_results.get(\"main_function\"),\n",
    "                        runtime\n",
    "                    ])\n",
    "                    cur_alignment = None\n",
    "                    cur_results = {}\n",
    "                cur_state = \"\"\n",
    "                continue"
   ]
  },
  {
   "cell_type": "code",
   "execution_count": 6,
   "metadata": {},
   "outputs": [
    {
     "data": {
      "text/html": [
       "<table><tr><td>100</td><td>1</td><td>hmmalign</td><td>None</td><td>20.583</td><td>None</td><td>26.29966</td></tr><tr><td>100</td><td>1</td><td>muscle</td><td>None</td><td>2.627</td><td>None</td><td>8.284079</td></tr><tr><td>100</td><td>1</td><td>mafft</td><td>None</td><td>97.206</td><td>None</td><td>5.079237</td></tr><tr><td>100</td><td>2</td><td>hmmalign</td><td>None</td><td>17.572</td><td>None</td><td>23.279073</td></tr><tr><td>100</td><td>2</td><td>muscle</td><td>None</td><td>2.128</td><td>None</td><td>8.032597</td></tr><tr><td>100</td><td>2</td><td>mafft</td><td>None</td><td>83.285</td><td>None</td><td>5.18886</td></tr><tr><td>100</td><td>3</td><td>hmmalign</td><td>None</td><td>18.374</td><td>None</td><td>23.840312</td></tr><tr><td>100</td><td>3</td><td>muscle</td><td>None</td><td>1.724</td><td>None</td><td>7.27133</td></tr><tr><td>100</td><td>3</td><td>mafft</td><td>None</td><td>72.968</td><td>None</td><td>5.186147</td></tr><tr><td>100</td><td>4</td><td>hmmalign</td><td>None</td><td>14.961</td><td>None</td><td>20.600839</td></tr><tr><td>100</td><td>4</td><td>muscle</td><td>None</td><td>1.728</td><td>None</td><td>7.222509</td></tr><tr><td>100</td><td>4</td><td>mafft</td><td>None</td><td>65.895</td><td>None</td><td>4.923094</td></tr><tr><td>100</td><td>5</td><td>hmmalign</td><td>None</td><td>17.159</td><td>None</td><td>22.864558</td></tr><tr><td>100</td><td>5</td><td>muscle</td><td>None</td><td>1.929</td><td>None</td><td>7.6879</td></tr><tr><td>100</td><td>5</td><td>mafft</td><td>None</td><td>77.594</td><td>None</td><td>5.260902</td></tr><tr><td>500</td><td>1</td><td>hmmalign</td><td>None</td><td>55.59</td><td>None</td><td>65.063176</td></tr><tr><td>500</td><td>1</td><td>muscle</td><td>None</td><td>12.659</td><td>None</td><td>22.207677</td></tr><tr><td>500</td><td>1</td><td>mafft</td><td>None</td><td>261.788</td><td>None</td><td>8.806548</td></tr><tr><td>500</td><td>2</td><td>hmmalign</td><td>None</td><td>57.161</td><td>None</td><td>66.349705</td></tr><tr><td>500</td><td>2</td><td>muscle</td><td>None</td><td>9.846</td><td>None</td><td>19.122834</td></tr><tr><td>500</td><td>2</td><td>mafft</td><td>None</td><td>263.024</td><td>None</td><td>8.561428</td></tr><tr><td>500</td><td>3</td><td>hmmalign</td><td>None</td><td>57.658</td><td>None</td><td>66.639635</td></tr><tr><td>500</td><td>3</td><td>muscle</td><td>None</td><td>10.049</td><td>None</td><td>19.396433</td></tr><tr><td>500</td><td>3</td><td>mafft</td><td>None</td><td>272.499</td><td>None</td><td>8.423281</td></tr><tr><td>500</td><td>4</td><td>hmmalign</td><td>None</td><td>55.786</td><td>None</td><td>64.716494</td></tr><tr><td>500</td><td>4</td><td>muscle</td><td>None</td><td>11.15</td><td>None</td><td>19.95479</td></tr><tr><td>500</td><td>4</td><td>mafft</td><td>None</td><td>270.584</td><td>None</td><td>8.269955</td></tr><tr><td>500</td><td>5</td><td>hmmalign</td><td>None</td><td>59.482</td><td>None</td><td>69.13135</td></tr><tr><td>500</td><td>5</td><td>muscle</td><td>None</td><td>11.444</td><td>None</td><td>20.493354</td></tr><tr><td>500</td><td>5</td><td>mafft</td><td>None</td><td>259.133</td><td>None</td><td>8.526124</td></tr><tr><td>1000</td><td>1</td><td>hmmalign</td><td>None</td><td>92.06</td><td>None</td><td>105.579693</td></tr><tr><td>1000</td><td>1</td><td>muscle</td><td>None</td><td>28.7</td><td>None</td><td>42.395762</td></tr><tr><td>1000</td><td>1</td><td>mafft</td><td>None</td><td>457.151</td><td>None</td><td>13.348045</td></tr><tr><td>1000</td><td>2</td><td>hmmalign</td><td>None</td><td>83.796</td><td>None</td><td>96.666498</td></tr><tr><td>1000</td><td>2</td><td>muscle</td><td>None</td><td>26.379</td><td>None</td><td>39.330542</td></tr><tr><td>1000</td><td>2</td><td>mafft</td><td>None</td><td>431.929</td><td>None</td><td>12.408889</td></tr><tr><td>1000</td><td>3</td><td>hmmalign</td><td>None</td><td>85.439</td><td>None</td><td>99.531724</td></tr><tr><td>1000</td><td>3</td><td>muscle</td><td>None</td><td>31.885</td><td>None</td><td>45.240105</td></tr><tr><td>1000</td><td>3</td><td>mafft</td><td>None</td><td>443.064</td><td>None</td><td>12.776565</td></tr><tr><td>1000</td><td>4</td><td>hmmalign</td><td>None</td><td>85.472</td><td>None</td><td>99.835744</td></tr><tr><td>1000</td><td>4</td><td>muscle</td><td>None</td><td>23.687</td><td>None</td><td>36.956431</td></tr><tr><td>1000</td><td>4</td><td>mafft</td><td>None</td><td>432.063</td><td>None</td><td>12.571571</td></tr><tr><td>1000</td><td>5</td><td>hmmalign</td><td>None</td><td>94.176</td><td>None</td><td>108.93566</td></tr><tr><td>1000</td><td>5</td><td>muscle</td><td>None</td><td>26.781</td><td>None</td><td>40.390458</td></tr><tr><td>1000</td><td>5</td><td>mafft</td><td>None</td><td>448.063</td><td>None</td><td>13.048712</td></tr><tr><td>5000</td><td>1</td><td>hmmalign</td><td>None</td><td>181.963</td><td>None</td><td>229.38658</td></tr><tr><td>5000</td><td>1</td><td>muscle</td><td>None</td><td>484.88</td><td>None</td><td>533.522362</td></tr><tr><td>5000</td><td>1</td><td>mafft</td><td>None</td><td>1228.565</td><td>None</td><td>51.080393</td></tr><tr><td>5000</td><td>2</td><td>hmmalign</td><td>None</td><td>175.286</td><td>None</td><td>227.175343</td></tr><tr><td>5000</td><td>2</td><td>muscle</td><td>None</td><td>430.518</td><td>None</td><td>477.672757</td></tr><tr><td>5000</td><td>2</td><td>mafft</td><td>None</td><td>1213.788</td><td>None</td><td>46.098713</td></tr><tr><td>5000</td><td>3</td><td>hmmalign</td><td>None</td><td>201.828</td><td>None</td><td>254.470604</td></tr><tr><td>5000</td><td>3</td><td>muscle</td><td>None</td><td>436.53</td><td>None</td><td>484.632913</td></tr><tr><td>5000</td><td>3</td><td>mafft</td><td>None</td><td>1223.319</td><td>None</td><td>47.29405</td></tr><tr><td>5000</td><td>4</td><td>hmmalign</td><td>None</td><td>199.795</td><td>None</td><td>251.57672</td></tr><tr><td>5000</td><td>4</td><td>muscle</td><td>None</td><td>449.738</td><td>None</td><td>497.210315</td></tr><tr><td>5000</td><td>4</td><td>mafft</td><td>None</td><td>1194.097</td><td>None</td><td>46.819669</td></tr><tr><td>5000</td><td>5</td><td>hmmalign</td><td>None</td><td>180.937</td><td>None</td><td>232.584923</td></tr><tr><td>5000</td><td>5</td><td>muscle</td><td>None</td><td>445.673</td><td>None</td><td>492.640866</td></tr><tr><td>5000</td><td>5</td><td>mafft</td><td>None</td><td>1206.649</td><td>None</td><td>46.52572</td></tr><tr><td>10000</td><td>1</td><td>hmmalign</td><td>None</td><td>299.319</td><td>None</td><td>397.741905</td></tr><tr><td>10000</td><td>1</td><td>muscle</td><td>None</td><td>1926.295</td><td>None</td><td>2016.114063</td></tr><tr><td>10000</td><td>1</td><td>mafft</td><td>None</td><td>1785.988</td><td>None</td><td>100.349766</td></tr><tr><td>10000</td><td>2</td><td>mafft</td><td>None</td><td>1832.087</td><td>None</td><td>94.790213</td></tr><tr><td>10000</td><td>2</td><td>hmmalign</td><td>None</td><td>257.471</td><td>None</td><td>356.069109</td></tr><tr><td>10000</td><td>2</td><td>muscle</td><td>None</td><td>1674.121</td><td>None</td><td>1763.393728</td></tr><tr><td>10000</td><td>2</td><td>None</td><td>None</td><td>None</td><td>None</td><td>65.197325</td></tr><tr><td>10000</td><td>3</td><td>hmmalign</td><td>None</td><td>322.63</td><td>None</td><td>425.257074</td></tr><tr><td>10000</td><td>3</td><td>muscle</td><td>None</td><td>1610.653</td><td>None</td><td>1702.74425</td></tr><tr><td>10000</td><td>3</td><td>mafft</td><td>None</td><td>1772.032</td><td>None</td><td>104.101645</td></tr><tr><td>10000</td><td>4</td><td>hmmalign</td><td>None</td><td>277.912</td><td>None</td><td>375.730423</td></tr><tr><td>10000</td><td>4</td><td>muscle</td><td>None</td><td>1758.726</td><td>None</td><td>1853.830704</td></tr><tr><td>10000</td><td>4</td><td>mafft</td><td>None</td><td>1849.036</td><td>None</td><td>102.744186</td></tr><tr><td>10000</td><td>5</td><td>hmmalign</td><td>None</td><td>315.913</td><td>None</td><td>412.866465</td></tr><tr><td>10000</td><td>5</td><td>muscle</td><td>None</td><td>1741.327</td><td>None</td><td>1836.74321</td></tr><tr><td>10000</td><td>5</td><td>mafft</td><td>None</td><td>1818.185</td><td>None</td><td>102.964435</td></tr></table>"
      ],
      "text/plain": [
       "<IPython.core.display.HTML object>"
      ]
     },
     "metadata": {},
     "output_type": "display_data"
    }
   ],
   "source": [
    "all_results = sorted(all_results, key=lambda x: (x[0], x[1]))\n",
    "from IPython.display import HTML, display\n",
    "display(HTML(\n",
    "   '<table><tr>{}</tr></table>'.format(\n",
    "       '</tr><tr>'.join(\n",
    "           '<td>{}</td>'.format('</td><td>'.join(str(_) for _ in row)) for row in all_results)\n",
    "       )\n",
    "))"
   ]
  },
  {
   "cell_type": "code",
   "execution_count": null,
   "metadata": {},
   "outputs": [],
   "source": []
  },
  {
   "cell_type": "code",
   "execution_count": null,
   "metadata": {},
   "outputs": [],
   "source": []
  }
 ],
 "metadata": {
  "kernelspec": {
   "display_name": "Python 3",
   "language": "python",
   "name": "python3"
  },
  "language_info": {
   "codemirror_mode": {
    "name": "ipython",
    "version": 3
   },
   "file_extension": ".py",
   "mimetype": "text/x-python",
   "name": "python",
   "nbconvert_exporter": "python",
   "pygments_lexer": "ipython3",
   "version": "3.7.3"
  }
 },
 "nbformat": 4,
 "nbformat_minor": 2
}
